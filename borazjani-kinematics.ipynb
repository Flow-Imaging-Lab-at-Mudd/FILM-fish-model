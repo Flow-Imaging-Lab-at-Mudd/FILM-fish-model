{
 "cells": [
  {
   "cell_type": "markdown",
   "metadata": {},
   "source": [
    "## Borazjani and Sotiropoulos' Carangiform Model\n",
    "\n",
    "Two non-dimensional parameters that characterize the steady inline performance of a carangiform swimmer are the Reynolds number ($Re$) of the flow and the Strouhal number ($St$) of the undulatory body motion.\n",
    "\n",
    "* $L$ is the fish length\n",
    "* $U$ is the steady inline swimming speed\n",
    "* $v$ is the kinematic viscosity of the water\n",
    "* $A$ is the maximum lateral excursion of the tail over a cycle\n",
    "* $f$ is the tail beat frequency.\n",
    "\n",
    "Most fishes have been shown swim near a 'universal' optimal value of 0.3.\n",
    "\n",
    "### Fish body kinematics and non-dimensional parameters\n",
    "\n",
    "The equation describing the lateral undulations of the fish body is given by\n",
    "\n",
    "$$ h(z,t)=a(z)sin(kz-\\omega t) $$\n",
    "\n",
    "where\n",
    "\n",
    "* $z$ is the axial (flow) direction measured along the fish axis from the tip of the fish head (essentially Lighthill's $x$-coordinate)\n",
    "* $h(z,t)$ is the lateral (side-to-side) excursion at time $t$ (essentially Lighthill's $z$-coordinate)\n",
    "* $a(z)$ is the first Fourier coefficient defining the amplitude envelope of lateral motion as a function of $z$\n",
    "* $k$ is the wave number of the body undulations that corresponds to a wavelength $\\lambda$\n",
    "* $\\omega$ is the angular frequency\n",
    "\n",
    "The values given below were experimentally determined by Videler and Hess.\n",
    "\n",
    "Table 1: Summaries of variables between Lighthill and Borazjani\n",
    "\n",
    "|Variable|Lighthill|Borazjani|\n",
    "|-|-|-|\n",
    "|a|Fish coordinate|First Fourier coefficient for amplitude|\n",
    "|h| |the lateral excursion|\n",
    "|t|time|time|\n",
    "|x|Horizontal coordinate along flow lines $(a,t)$| |\n",
    "|y|Vertical coordinate| |\n",
    "|z|Horizontal coordinate perpendiular to flow $(a,t)$|Axial flow direction measured along the fish axis from the tip of the fish head|\n",
    "|u|Horizontal velocity vector (x direction in y=0 plane)| |\n",
    "|v|Vertical velocity vector in y=0 plane (z direction)| |\n",
    "|k| |Wavenumber|\n",
    "\n",
    "Table 2: Equivalent variables between the two papers\n",
    "\n",
    "|Lighthill|Borazjani|\n",
    "|-|-|\n",
    "|a| |\n",
    "|x|z|\n",
    "|y| |\n",
    "|z|h|"
   ]
  },
  {
   "cell_type": "code",
   "execution_count": 18,
   "metadata": {},
   "outputs": [],
   "source": [
    "%matplotlib inline\n",
    "\n",
    "import math\n",
    "import matplotlib.pyplot as plt"
   ]
  },
  {
   "cell_type": "code",
   "execution_count": 19,
   "metadata": {},
   "outputs": [],
   "source": [
    "# Constants for the function a\n",
    "a0 = 0.02\n",
    "a1 = -0.08\n",
    "a2 = 0.16\n",
    "amax = 0.1"
   ]
  },
  {
   "cell_type": "code",
   "execution_count": 20,
   "metadata": {},
   "outputs": [],
   "source": [
    "# Wave Parameters\n",
    "# Note: I'm not really sure where half these constants come from\n",
    "dimLam = 0.95\n",
    "L = 1\n",
    "k = 2*math.pi/(dimLam*1)\n",
    "omega = 2*math.pi*0.3/(2*.01)\n",
    "omegaT = [0, .25*math.pi, .5*math.pi, .75*math.pi, math.pi, 1.25*math.pi, 1.5*math.pi, 1.75*math.pi, 2*math.pi]"
   ]
  },
  {
   "cell_type": "code",
   "execution_count": 21,
   "metadata": {},
   "outputs": [],
   "source": [
    "# Constants for dimensionless parameters\n",
    "f = 1\n",
    "hmax = amax*L"
   ]
  },
  {
   "cell_type": "code",
   "execution_count": 22,
   "metadata": {},
   "outputs": [],
   "source": [
    "def a(z):\n",
    "    '''\n",
    "        First Fourier Coefficient describing the amplitude envelop of lateral motion\n",
    "    '''\n",
    "    return (a0 + a1*z +a2*(z**2))"
   ]
  },
  {
   "cell_type": "code",
   "execution_count": 23,
   "metadata": {},
   "outputs": [],
   "source": [
    "def dAdZ(z):\n",
    "    return (a1+2*a2*z)"
   ]
  },
  {
   "cell_type": "code",
   "execution_count": 24,
   "metadata": {},
   "outputs": [],
   "source": [
    "def h(z, t):\n",
    "    '''\n",
    "        Represents the lateral excursion of the fish at time t\n",
    "    '''\n",
    "    return a(z)*math.sin(k*z-omega*t)"
   ]
  },
  {
   "cell_type": "code",
   "execution_count": 25,
   "metadata": {},
   "outputs": [],
   "source": [
    "def omega1(u):\n",
    "    '''\n",
    "        Calculates a new omega depending on U\n",
    "    '''\n",
    "    St = 2*f*hmax/u\n",
    "    return math.pi*St/amax"
   ]
  },
  {
   "cell_type": "code",
   "execution_count": 26,
   "metadata": {},
   "outputs": [],
   "source": [
    "def k1(u):\n",
    "    '''\n",
    "        Calculates a new k depending on U\n",
    "    '''\n",
    "    return 2*math.pi/(dimLam*1)"
   ]
  },
  {
   "cell_type": "code",
   "execution_count": 27,
   "metadata": {},
   "outputs": [],
   "source": [
    "def dHdZ(z, t):\n",
    "    '''\n",
    "        Finds Borijani's dh/dz at a given z and t\n",
    "    '''\n",
    "    return (dAdZ(z)*math.sin(k*z-omega*t) +a(z)*k*math.cos(k*z-omega*t))"
   ]
  },
  {
   "cell_type": "code",
   "execution_count": 28,
   "metadata": {},
   "outputs": [],
   "source": [
    "def dHdt(z,t):\n",
    "    '''\n",
    "        Finds Borazjani's dh/dt (eqivalent to Lighthill dz/dt)\n",
    "    '''\n",
    "    return (-omega*a(z)*math.sin(k*z-omega*t))"
   ]
  },
  {
   "cell_type": "code",
   "execution_count": 29,
   "metadata": {},
   "outputs": [],
   "source": [
    "'''\n",
    "    These help set initial time and z variables\n",
    "'''\n",
    "times = [0, 0.1, 0.2, 0.3, 0.5, 1, 2, 4, 9, 10, 20]\n",
    "time = 1\n",
    "# Makes list with values 0-1 with 1/clarity increments\n",
    "clarity = 100\n",
    "zVals = range(0,clarity)\n",
    "zVals = [z/clarity for z in zVals]"
   ]
  },
  {
   "cell_type": "code",
   "execution_count": 30,
   "metadata": {},
   "outputs": [],
   "source": [
    "'''\n",
    "    The following lines were used to recreate the weird Borzjani wavy graph.\n",
    "    All variables are in Borazjani coordinates\n",
    "'''\n",
    "# Makes list of u vals\n",
    "# Note: these U-vals refer to Borazjani's forward velocity\n",
    "numUVals = 6\n",
    "UVals = range(-numUVals,numUVals)\n",
    "UVals = [u/numUVals+.1 for u in UVals]"
   ]
  },
  {
   "cell_type": "code",
   "execution_count": 31,
   "metadata": {},
   "outputs": [],
   "source": [
    "# Use list comprehension to get values of h\n",
    "# The list comprehension seems to work, but I keep getting the same few values for multiple values of time\n",
    "hVals = [[h(z, t) for z in zVals] for t in times]"
   ]
  },
  {
   "cell_type": "code",
   "execution_count": 32,
   "metadata": {},
   "outputs": [
    {
     "ename": "NameError",
     "evalue": "name 'h2' is not defined",
     "output_type": "error",
     "traceback": [
      "\u001b[0;31m---------------------------------------------------------------------------\u001b[0m",
      "\u001b[0;31mNameError\u001b[0m                                 Traceback (most recent call last)",
      "\u001b[0;32m<ipython-input-32-1c9ed45056bc>\u001b[0m in \u001b[0;36m<module>\u001b[0;34m()\u001b[0m\n\u001b[1;32m      1\u001b[0m \u001b[0;31m# Try to use h2 function to vary omega\u001b[0m\u001b[0;34m\u001b[0m\u001b[0;34m\u001b[0m\u001b[0m\n\u001b[0;32m----> 2\u001b[0;31m \u001b[0mh2Vals\u001b[0m \u001b[0;34m=\u001b[0m \u001b[0;34m[\u001b[0m\u001b[0;34m[\u001b[0m\u001b[0mh2\u001b[0m\u001b[0;34m(\u001b[0m\u001b[0mz\u001b[0m\u001b[0;34m,\u001b[0m \u001b[0mtime\u001b[0m\u001b[0;34m,\u001b[0m \u001b[0momega1\u001b[0m\u001b[0;34m(\u001b[0m\u001b[0mu\u001b[0m\u001b[0;34m)\u001b[0m\u001b[0;34m,\u001b[0m \u001b[0mk1\u001b[0m\u001b[0;34m(\u001b[0m\u001b[0mu\u001b[0m\u001b[0;34m)\u001b[0m\u001b[0;34m)\u001b[0m \u001b[0;32mfor\u001b[0m \u001b[0mz\u001b[0m \u001b[0;32min\u001b[0m \u001b[0mzVals\u001b[0m\u001b[0;34m]\u001b[0m \u001b[0;32mfor\u001b[0m \u001b[0mu\u001b[0m \u001b[0;32min\u001b[0m \u001b[0mUVals\u001b[0m\u001b[0;34m]\u001b[0m\u001b[0;34m\u001b[0m\u001b[0m\n\u001b[0m\u001b[1;32m      3\u001b[0m \u001b[0maVals\u001b[0m \u001b[0;34m=\u001b[0m \u001b[0;34m[\u001b[0m\u001b[0ma\u001b[0m\u001b[0;34m(\u001b[0m\u001b[0mz\u001b[0m\u001b[0;34m)\u001b[0m \u001b[0;32mfor\u001b[0m \u001b[0mz\u001b[0m \u001b[0;32min\u001b[0m \u001b[0mzVals\u001b[0m\u001b[0;34m]\u001b[0m\u001b[0;34m\u001b[0m\u001b[0m\n",
      "\u001b[0;32m<ipython-input-32-1c9ed45056bc>\u001b[0m in \u001b[0;36m<listcomp>\u001b[0;34m(.0)\u001b[0m\n\u001b[1;32m      1\u001b[0m \u001b[0;31m# Try to use h2 function to vary omega\u001b[0m\u001b[0;34m\u001b[0m\u001b[0;34m\u001b[0m\u001b[0m\n\u001b[0;32m----> 2\u001b[0;31m \u001b[0mh2Vals\u001b[0m \u001b[0;34m=\u001b[0m \u001b[0;34m[\u001b[0m\u001b[0;34m[\u001b[0m\u001b[0mh2\u001b[0m\u001b[0;34m(\u001b[0m\u001b[0mz\u001b[0m\u001b[0;34m,\u001b[0m \u001b[0mtime\u001b[0m\u001b[0;34m,\u001b[0m \u001b[0momega1\u001b[0m\u001b[0;34m(\u001b[0m\u001b[0mu\u001b[0m\u001b[0;34m)\u001b[0m\u001b[0;34m,\u001b[0m \u001b[0mk1\u001b[0m\u001b[0;34m(\u001b[0m\u001b[0mu\u001b[0m\u001b[0;34m)\u001b[0m\u001b[0;34m)\u001b[0m \u001b[0;32mfor\u001b[0m \u001b[0mz\u001b[0m \u001b[0;32min\u001b[0m \u001b[0mzVals\u001b[0m\u001b[0;34m]\u001b[0m \u001b[0;32mfor\u001b[0m \u001b[0mu\u001b[0m \u001b[0;32min\u001b[0m \u001b[0mUVals\u001b[0m\u001b[0;34m]\u001b[0m\u001b[0;34m\u001b[0m\u001b[0m\n\u001b[0m\u001b[1;32m      3\u001b[0m \u001b[0maVals\u001b[0m \u001b[0;34m=\u001b[0m \u001b[0;34m[\u001b[0m\u001b[0ma\u001b[0m\u001b[0;34m(\u001b[0m\u001b[0mz\u001b[0m\u001b[0;34m)\u001b[0m \u001b[0;32mfor\u001b[0m \u001b[0mz\u001b[0m \u001b[0;32min\u001b[0m \u001b[0mzVals\u001b[0m\u001b[0;34m]\u001b[0m\u001b[0;34m\u001b[0m\u001b[0m\n",
      "\u001b[0;32m<ipython-input-32-1c9ed45056bc>\u001b[0m in \u001b[0;36m<listcomp>\u001b[0;34m(.0)\u001b[0m\n\u001b[1;32m      1\u001b[0m \u001b[0;31m# Try to use h2 function to vary omega\u001b[0m\u001b[0;34m\u001b[0m\u001b[0;34m\u001b[0m\u001b[0m\n\u001b[0;32m----> 2\u001b[0;31m \u001b[0mh2Vals\u001b[0m \u001b[0;34m=\u001b[0m \u001b[0;34m[\u001b[0m\u001b[0;34m[\u001b[0m\u001b[0mh2\u001b[0m\u001b[0;34m(\u001b[0m\u001b[0mz\u001b[0m\u001b[0;34m,\u001b[0m \u001b[0mtime\u001b[0m\u001b[0;34m,\u001b[0m \u001b[0momega1\u001b[0m\u001b[0;34m(\u001b[0m\u001b[0mu\u001b[0m\u001b[0;34m)\u001b[0m\u001b[0;34m,\u001b[0m \u001b[0mk1\u001b[0m\u001b[0;34m(\u001b[0m\u001b[0mu\u001b[0m\u001b[0;34m)\u001b[0m\u001b[0;34m)\u001b[0m \u001b[0;32mfor\u001b[0m \u001b[0mz\u001b[0m \u001b[0;32min\u001b[0m \u001b[0mzVals\u001b[0m\u001b[0;34m]\u001b[0m \u001b[0;32mfor\u001b[0m \u001b[0mu\u001b[0m \u001b[0;32min\u001b[0m \u001b[0mUVals\u001b[0m\u001b[0;34m]\u001b[0m\u001b[0;34m\u001b[0m\u001b[0m\n\u001b[0m\u001b[1;32m      3\u001b[0m \u001b[0maVals\u001b[0m \u001b[0;34m=\u001b[0m \u001b[0;34m[\u001b[0m\u001b[0ma\u001b[0m\u001b[0;34m(\u001b[0m\u001b[0mz\u001b[0m\u001b[0;34m)\u001b[0m \u001b[0;32mfor\u001b[0m \u001b[0mz\u001b[0m \u001b[0;32min\u001b[0m \u001b[0mzVals\u001b[0m\u001b[0;34m]\u001b[0m\u001b[0;34m\u001b[0m\u001b[0m\n",
      "\u001b[0;31mNameError\u001b[0m: name 'h2' is not defined"
     ]
    }
   ],
   "source": [
    "# Try to use h2 function to vary omega\n",
    "h2Vals = [[h2(z, time, omega1(u), k1(u)) for z in zVals] for u in UVals]\n",
    "aVals = [a(z) for z in zVals]"
   ]
  },
  {
   "cell_type": "code",
   "execution_count": 33,
   "metadata": {},
   "outputs": [],
   "source": [
    "'''\n",
    "    Here, we tried to put Borazjani into Lighthill \n",
    "    I labeled Borzajani-based coordinates with a b afterwards, and \n",
    "    Lighthill-based coordinates with an l afterwards.\n",
    "'''\n",
    "# Determine (dh/dz)^2, then calculate the derivative of the arclength\n",
    "dhdz2Vals = [dHdZ(z,time)**2 for z in zVals]\n",
    "sPrime = [math.sqrt(1+dHdZ(z,time)**2) for z in zVals]"
   ]
  },
  {
   "cell_type": "code",
   "execution_count": 34,
   "metadata": {},
   "outputs": [
    {
     "name": "stdout",
     "output_type": "stream",
     "text": [
      "0.01\n"
     ]
    }
   ],
   "source": [
    "dz = L/clarity\n",
    "print(dz)\n",
    "sRects = [sP*dz for sP in sPrime]"
   ]
  },
  {
   "cell_type": "code",
   "execution_count": 35,
   "metadata": {},
   "outputs": [],
   "source": [
    "# The following list comp produces a nearly linear fit...\n",
    "arcLen = [sum(sRects[0:z]) for z in range(0,len(zVals))]"
   ]
  },
  {
   "cell_type": "code",
   "execution_count": 36,
   "metadata": {},
   "outputs": [],
   "source": [
    "def estArc(z):\n",
    "    '''\n",
    "        Calculates the estimated arc length\n",
    "        Note: doesn't work because z is not actually an index\n",
    "        Just use the arcLen list comp above\n",
    "    '''\n",
    "    return sum(sRects[0:z*clarity])"
   ]
  },
  {
   "cell_type": "code",
   "execution_count": 37,
   "metadata": {},
   "outputs": [
    {
     "name": "stdout",
     "output_type": "stream",
     "text": [
      "1.0230780583271275\n"
     ]
    }
   ],
   "source": [
    "# Let's try to findd the arclen using the above function\n",
    "print (estArc(L))# Find arclen at various times\n",
    "def arcBasedOnTime(t):\n",
    "    # Set up all the variables as before but name them differently\n",
    "    # to avoid confusing Python\n",
    "    clar = 100\n",
    "    zV = range(0,clarity)\n",
    "    zV = [z/clarity for z in zV]\n",
    "\n",
    "    dhdz2 = [dHdZ(z,t)**2 for z in zV]\n",
    "    sPrime = [math.sqrt(1+dHdZ(z,t)**2) for z in zV]\n",
    "\n",
    "    dzb = L/clar\n",
    "    sRects = [sP*dzb for sP in sPrime]\n",
    "\n",
    "    # We want to find the arclength across the whole fish, so add everything\n",
    "    return sum(sRects)"
   ]
  },
  {
   "cell_type": "code",
   "execution_count": 38,
   "metadata": {},
   "outputs": [
    {
     "data": {
      "image/png": "[encoded data removed]",
      "text/plain": [
       "<matplotlib.figure.Figure at 0x10b48db38>"
      ]
     },
     "metadata": {},
     "output_type": "display_data"
    }
   ],
   "source": [
    "# Now make a list based off of times \n",
    "# note: omega is ~94. We need to vary omega*t between 0 and 2*pi.\n",
    "# We find that 2*pi/94 = 0.66, so varying times between 0 and 0.66\n",
    "# represents varied times over a period.\n",
    "timesForArc = [0.66*t/clarity for t in range(0,100)]\n",
    "arcsBasedtimes = [arcBasedOnTime(t) for t in timesForArc]\n",
    "# All of the arclengths are about 1, which is what we should hope\n",
    "\n",
    "\n",
    "'''\n",
    "    General Notes from meetings bcs wow good organization:\n",
    "\n",
    "    Finish find a-coord (arcLen)\n",
    "    Xl = Zb\n",
    "    Lighthill's dx/da = 1/sqrt(1+dhdz^2) = 1/sPrime\n",
    "    dxl/dt is the forward velocity of the body (Use body len/sec = 1)\n",
    "    dzl/dt is dh/dt\n",
    "    To find dzl/da, we should find (dhb/dzb)/(dab/dzb)\n",
    "'''\n",
    "# Let's find dx/da and dz/da (Lighthill vars)\n",
    "# Note: (dab/dzb) = da/dxl = sPrime\n",
    "dxda = [1/sP for sP in sPrime]\n",
    "dzda = [dHdZ(z,time)/math.sqrt(1+dHdZ(z,time)**2) for z in zVals]\n",
    "\n",
    "# Test whether (dx/da)^2 + (dz/da)^2 = 1\n",
    "tests = [dxa**2+dza**2 for (dxa,dza) in zip(dxda,dzda)]\n",
    "# If you print tests, you'll see that the proposition is correct.\n",
    "# Therefore, we can use the model\n",
    "\n",
    "# Now, let's try to find the u and w vectors from Lighthill\n",
    "# u = dx/dt*dx/da + dz/dt*dz/da\n",
    "dzdt = [dHdt(z,time) for z in zVals]\n",
    "uVec = [1*dxa + dzt*dza for (dxa,dzt,dza) in zip(dxda,dzdt,dzda)]\n",
    "# w = dz/dt*dx/da - dx/dt*dz/da\n",
    "wVec = [dzt*dxa - 1*dza for (dxa,dzt,dza) in zip(dxda,dzdt,dzda)]\n",
    "\n",
    "plt.plot(zVals, dzda)\n",
    "plt.show()\n",
    "\n",
    "# Next, we need to find momentum...\n",
    "\n",
    "\n",
    "# Now let's try to find dzl/dal = dhb/dal"
   ]
  },
  {
   "cell_type": "code",
   "execution_count": null,
   "metadata": {},
   "outputs": [],
   "source": []
  }
 ],
 "metadata": {
  "kernelspec": {
   "display_name": "Python 3",
   "language": "python",
   "name": "python3"
  },
  "language_info": {
   "codemirror_mode": {
    "name": "ipython",
    "version": 3
   },
   "file_extension": ".py",
   "mimetype": "text/x-python",
   "name": "python",
   "nbconvert_exporter": "python",
   "pygments_lexer": "ipython3",
   "version": "3.6.4"
  }
 },
 "nbformat": 4,
 "nbformat_minor": 2
}
